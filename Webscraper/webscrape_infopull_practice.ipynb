{
 "cells": [
  {
   "cell_type": "markdown",
   "metadata": {},
   "source": [
    "# Testing"
   ]
  },
  {
   "cell_type": "code",
   "execution_count": 1,
   "metadata": {},
   "outputs": [],
   "source": [
    "import pandas as pd\n",
    "import numpy as np\n",
    "import urllib.request as ureq\n",
    "from bs4 import BeautifulSoup"
   ]
  },
  {
   "cell_type": "code",
   "execution_count": 2,
   "metadata": {},
   "outputs": [
    {
     "data": {
      "text/plain": [
       "bs4.BeautifulSoup"
      ]
     },
     "execution_count": 2,
     "metadata": {},
     "output_type": "execute_result"
    }
   ],
   "source": [
    "path = 'https://www.platt.com/platt-electric-supply/LED-Traditional-Lamps-A-Type/Philips-Lighting/9-5A19-LED-827-22-DIM-120V/product.aspx?zpid=169504'\n",
    "html=ureq.urlopen(path)\n",
    "\n",
    "soup=BeautifulSoup(html,'html.parser')\n",
    "type(soup)"
   ]
  },
  {
   "cell_type": "markdown",
   "metadata": {},
   "source": [
    "### Basic Information"
   ]
  },
  {
   "cell_type": "code",
   "execution_count": 7,
   "metadata": {},
   "outputs": [
    {
     "name": "stdout",
     "output_type": "stream",
     "text": [
      "<title>\n",
      "\tPhilips Lighting - 9.5A19/LED/827-22 DIM 120V, Lamps - A-Type, LED - Traditional, Bulbs,, Ballasts - Platt Electric Supply\n",
      "</title>\n"
     ]
    }
   ],
   "source": [
    "title=soup.title\n",
    "print(title)"
   ]
  },
  {
   "cell_type": "code",
   "execution_count": 8,
   "metadata": {},
   "outputs": [
    {
     "name": "stdout",
     "output_type": "stream",
     "text": [
      "None\n"
     ]
    }
   ],
   "source": [
    "print(soup.price)"
   ]
  },
  {
   "cell_type": "code",
   "execution_count": 9,
   "metadata": {},
   "outputs": [
    {
     "name": "stdout",
     "output_type": "stream",
     "text": [
      "$6.83\n"
     ]
    }
   ],
   "source": [
    "# find price box, strips away the tag info and leaves the price\n",
    "price=soup.find(\"span\",{\"class\":\"ProductPriceOrderBox\"}).get_text(strip=True)\n",
    "print(price)"
   ]
  },
  {
   "cell_type": "code",
   "execution_count": 10,
   "metadata": {},
   "outputs": [
    {
     "name": "stdout",
     "output_type": "stream",
     "text": [
      "Dimmable LED Lamp with warm glow effect, 9.5W, 120V, Bulb: A-Type (A19), Base: Medium Screw (E26), Lumens: 800, CRI: 80, Color Temperature: 2700-2200K. Energy Star Rated. Rated Average Life: 25,000 Hrs. *Philips Part # 45332-4* 60W Equivalent. Suitable for use in enclosed fixtures\n"
     ]
    }
   ],
   "source": [
    "# find description for product\n",
    "description=soup.find(\"span\",{\"id\":\"lblDetailDes\"}).get_text(strip=True)\n",
    "print(description)"
   ]
  },
  {
   "cell_type": "markdown",
   "metadata": {},
   "source": [
    "### Table Information"
   ]
  },
  {
   "cell_type": "code",
   "execution_count": 11,
   "metadata": {},
   "outputs": [
    {
     "name": "stdout",
     "output_type": "stream",
     "text": [
      "<table cellpadding=\"0\" cellspacing=\"0\" class=\"seoSpecTable2\"><tr><td class=\"detailsGridCol1\">Color Temperature:</td><td>2700 (Warm White), 2700 (Warm White), 2700 (Warm White)</td></tr><tr class=\"detailsGridAltRow\"><td class=\"detailsGridCol1\">Lumens:</td><td>800</td></tr><tr><td class=\"detailsGridCol1\">Shape:</td><td>A19 (Arbitrary)</td></tr><tr class=\"detailsGridAltRow\"><td class=\"detailsGridCol1\">Wattage:</td><td>9.500</td></tr><tr><td class=\"detailsGridCol1\">Volts AC:</td><td>120</td></tr><tr class=\"detailsGridAltRow\"><td class=\"detailsGridCol1\">Type:</td><td>Lamp, LED, Dimmable</td></tr></table>\n"
     ]
    }
   ],
   "source": [
    "# find second specification table\n",
    "spectable=soup.find(\"table\",{\"class\":\"seoSpecTable2\"})\n",
    "print(spectable)"
   ]
  },
  {
   "cell_type": "code",
   "execution_count": 12,
   "metadata": {},
   "outputs": [
    {
     "name": "stdout",
     "output_type": "stream",
     "text": [
      "[<tr><td class=\"detailsGridCol1\">Color Temperature:</td><td>2700 (Warm White), 2700 (Warm White), 2700 (Warm White)</td></tr>, <tr class=\"detailsGridAltRow\"><td class=\"detailsGridCol1\">Lumens:</td><td>800</td></tr>, <tr><td class=\"detailsGridCol1\">Shape:</td><td>A19 (Arbitrary)</td></tr>, <tr class=\"detailsGridAltRow\"><td class=\"detailsGridCol1\">Wattage:</td><td>9.500</td></tr>, <tr><td class=\"detailsGridCol1\">Volts AC:</td><td>120</td></tr>, <tr class=\"detailsGridAltRow\"><td class=\"detailsGridCol1\">Type:</td><td>Lamp, LED, Dimmable</td></tr>]\n"
     ]
    }
   ],
   "source": [
    "# loop through spec table and grab all attributes\n",
    "specrows=spectable.find_all('tr')\n",
    "print(specrows)\n"
   ]
  },
  {
   "cell_type": "code",
   "execution_count": null,
   "metadata": {},
   "outputs": [],
   "source": []
  },
  {
   "cell_type": "code",
   "execution_count": 14,
   "metadata": {},
   "outputs": [
    {
     "name": "stdout",
     "output_type": "stream",
     "text": [
      "[<td class=\"detailsGridCol1\">Color Temperature:</td>, <td>2700 (Warm White), 2700 (Warm White), 2700 (Warm White)</td>]\n",
      "[<td class=\"detailsGridCol1\">Lumens:</td>, <td>800</td>]\n",
      "[<td class=\"detailsGridCol1\">Shape:</td>, <td>A19 (Arbitrary)</td>]\n",
      "[<td class=\"detailsGridCol1\">Wattage:</td>, <td>9.500</td>]\n",
      "[<td class=\"detailsGridCol1\">Volts AC:</td>, <td>120</td>]\n",
      "[<td class=\"detailsGridCol1\">Type:</td>, <td>Lamp, LED, Dimmable</td>]\n"
     ]
    }
   ],
   "source": [
    "# split rows into columns.\n",
    "\n",
    "for row in specrows:\n",
    "    row_td=row.find_all('td')\n",
    "    print(row_td)\n"
   ]
  },
  {
   "cell_type": "code",
   "execution_count": 13,
   "metadata": {},
   "outputs": [
    {
     "name": "stdout",
     "output_type": "stream",
     "text": [
      "[Type:, Lamp, LED, Dimmable]\n",
      "['[Color Temperature:, 2700 (Warm White), 2700 (Warm White), 2700 (Warm White)]', '[Lumens:, 800]', '[Shape:, A19 (Arbitrary)]', '[Wattage:, 9.500]', '[Volts AC:, 120]', '[Type:, Lamp, LED, Dimmable]']\n"
     ]
    }
   ],
   "source": [
    "# improved method to grab columns within each row\n",
    "import re\n",
    "\n",
    "list_rows=[]\n",
    "for row in specrows:\n",
    "    cells=row.find_all('td')\n",
    "    str_cells=str(cells)\n",
    "    clean=re.compile('<.*?>')\n",
    "    clean2=(re.sub(clean,'',str_cells))\n",
    "    list_rows.append(clean2)\n",
    "print(clean2)\n",
    "type(clean2)\n",
    "print(list_rows)"
   ]
  },
  {
   "cell_type": "code",
   "execution_count": 24,
   "metadata": {},
   "outputs": [],
   "source": [
    "df12=pd.DataFrame()"
   ]
  },
  {
   "cell_type": "code",
   "execution_count": 23,
   "metadata": {},
   "outputs": [
    {
     "data": {
      "text/html": [
       "<div>\n",
       "<style scoped>\n",
       "    .dataframe tbody tr th:only-of-type {\n",
       "        vertical-align: middle;\n",
       "    }\n",
       "\n",
       "    .dataframe tbody tr th {\n",
       "        vertical-align: top;\n",
       "    }\n",
       "\n",
       "    .dataframe thead th {\n",
       "        text-align: right;\n",
       "    }\n",
       "</style>\n",
       "<table border=\"1\" class=\"dataframe\">\n",
       "  <thead>\n",
       "    <tr style=\"text-align: right;\">\n",
       "      <th></th>\n",
       "      <th>0</th>\n",
       "    </tr>\n",
       "  </thead>\n",
       "  <tbody>\n",
       "    <tr>\n",
       "      <th>0</th>\n",
       "      <td>[Color Temperature:, 2700 (Warm White), 2700 (...</td>\n",
       "    </tr>\n",
       "    <tr>\n",
       "      <th>1</th>\n",
       "      <td>[Lumens:, 800]</td>\n",
       "    </tr>\n",
       "    <tr>\n",
       "      <th>2</th>\n",
       "      <td>[Shape:, A19 (Arbitrary)]</td>\n",
       "    </tr>\n",
       "    <tr>\n",
       "      <th>3</th>\n",
       "      <td>[Wattage:, 9.500]</td>\n",
       "    </tr>\n",
       "    <tr>\n",
       "      <th>4</th>\n",
       "      <td>[Volts AC:, 120]</td>\n",
       "    </tr>\n",
       "    <tr>\n",
       "      <th>5</th>\n",
       "      <td>[Type:, Lamp, LED, Dimmable]</td>\n",
       "    </tr>\n",
       "  </tbody>\n",
       "</table>\n",
       "</div>"
      ],
      "text/plain": [
       "                                                   0\n",
       "0  [Color Temperature:, 2700 (Warm White), 2700 (...\n",
       "1                                     [Lumens:, 800]\n",
       "2                          [Shape:, A19 (Arbitrary)]\n",
       "3                                  [Wattage:, 9.500]\n",
       "4                                   [Volts AC:, 120]\n",
       "5                       [Type:, Lamp, LED, Dimmable]"
      ]
     },
     "execution_count": 23,
     "metadata": {},
     "output_type": "execute_result"
    }
   ],
   "source": [
    "d=df11.append(list_rows)\n",
    "d"
   ]
  },
  {
   "cell_type": "code",
   "execution_count": 30,
   "metadata": {},
   "outputs": [],
   "source": [
    "df12=df12.append(d)"
   ]
  },
  {
   "cell_type": "code",
   "execution_count": 31,
   "metadata": {},
   "outputs": [
    {
     "data": {
      "text/html": [
       "<div>\n",
       "<style scoped>\n",
       "    .dataframe tbody tr th:only-of-type {\n",
       "        vertical-align: middle;\n",
       "    }\n",
       "\n",
       "    .dataframe tbody tr th {\n",
       "        vertical-align: top;\n",
       "    }\n",
       "\n",
       "    .dataframe thead th {\n",
       "        text-align: right;\n",
       "    }\n",
       "</style>\n",
       "<table border=\"1\" class=\"dataframe\">\n",
       "  <thead>\n",
       "    <tr style=\"text-align: right;\">\n",
       "      <th></th>\n",
       "      <th>0</th>\n",
       "    </tr>\n",
       "  </thead>\n",
       "  <tbody>\n",
       "    <tr>\n",
       "      <th>0</th>\n",
       "      <td>[Color Temperature:, 2700 (Warm White), 2700 (...</td>\n",
       "    </tr>\n",
       "    <tr>\n",
       "      <th>1</th>\n",
       "      <td>[Lumens:, 800]</td>\n",
       "    </tr>\n",
       "    <tr>\n",
       "      <th>2</th>\n",
       "      <td>[Shape:, A19 (Arbitrary)]</td>\n",
       "    </tr>\n",
       "    <tr>\n",
       "      <th>3</th>\n",
       "      <td>[Wattage:, 9.500]</td>\n",
       "    </tr>\n",
       "    <tr>\n",
       "      <th>4</th>\n",
       "      <td>[Volts AC:, 120]</td>\n",
       "    </tr>\n",
       "    <tr>\n",
       "      <th>5</th>\n",
       "      <td>[Type:, Lamp, LED, Dimmable]</td>\n",
       "    </tr>\n",
       "  </tbody>\n",
       "</table>\n",
       "</div>"
      ],
      "text/plain": [
       "                                                   0\n",
       "0  [Color Temperature:, 2700 (Warm White), 2700 (...\n",
       "1                                     [Lumens:, 800]\n",
       "2                          [Shape:, A19 (Arbitrary)]\n",
       "3                                  [Wattage:, 9.500]\n",
       "4                                   [Volts AC:, 120]\n",
       "5                       [Type:, Lamp, LED, Dimmable]"
      ]
     },
     "execution_count": 31,
     "metadata": {},
     "output_type": "execute_result"
    }
   ],
   "source": [
    "df12"
   ]
  },
  {
   "cell_type": "code",
   "execution_count": 17,
   "metadata": {},
   "outputs": [
    {
     "data": {
      "text/plain": [
       "['[Color Temperature:, 2700 (Warm White), 2700 (Warm White), 2700 (Warm White)]',\n",
       " '[Lumens:, 800]',\n",
       " '[Shape:, A19 (Arbitrary)]',\n",
       " '[Wattage:, 9.500]',\n",
       " '[Volts AC:, 120]',\n",
       " '[Type:, Lamp, LED, Dimmable]']"
      ]
     },
     "execution_count": 17,
     "metadata": {},
     "output_type": "execute_result"
    }
   ],
   "source": [
    "list_rows"
   ]
  },
  {
   "cell_type": "code",
   "execution_count": 18,
   "metadata": {},
   "outputs": [
    {
     "ename": "TypeError",
     "evalue": "first argument must be an iterable of pandas objects, you passed an object of type \"DataFrame\"",
     "output_type": "error",
     "traceback": [
      "\u001b[1;31m---------------------------------------------------------------------------\u001b[0m",
      "\u001b[1;31mTypeError\u001b[0m                                 Traceback (most recent call last)",
      "\u001b[1;32m<ipython-input-18-0e870f22a146>\u001b[0m in \u001b[0;36m<module>\u001b[1;34m\u001b[0m\n\u001b[1;32m----> 1\u001b[1;33m \u001b[0mdf00\u001b[0m\u001b[1;33m=\u001b[0m\u001b[0mpd\u001b[0m\u001b[1;33m.\u001b[0m\u001b[0mconcat\u001b[0m\u001b[1;33m(\u001b[0m\u001b[0mpd\u001b[0m\u001b[1;33m.\u001b[0m\u001b[0mDataFrame\u001b[0m\u001b[1;33m(\u001b[0m\u001b[0mlist_rows\u001b[0m\u001b[1;33m)\u001b[0m\u001b[1;33m,\u001b[0m\u001b[0mdf11\u001b[0m\u001b[1;33m)\u001b[0m\u001b[1;33m\u001b[0m\u001b[0m\n\u001b[0m\u001b[0;32m      2\u001b[0m \u001b[0mdf00\u001b[0m\u001b[1;33m\u001b[0m\u001b[0m\n",
      "\u001b[1;32mc:\\users\\apetersen\\appdata\\local\\programs\\python\\python37\\lib\\site-packages\\pandas\\core\\reshape\\concat.py\u001b[0m in \u001b[0;36mconcat\u001b[1;34m(objs, axis, join, join_axes, ignore_index, keys, levels, names, verify_integrity, sort, copy)\u001b[0m\n\u001b[0;32m    223\u001b[0m                        \u001b[0mkeys\u001b[0m\u001b[1;33m=\u001b[0m\u001b[0mkeys\u001b[0m\u001b[1;33m,\u001b[0m \u001b[0mlevels\u001b[0m\u001b[1;33m=\u001b[0m\u001b[0mlevels\u001b[0m\u001b[1;33m,\u001b[0m \u001b[0mnames\u001b[0m\u001b[1;33m=\u001b[0m\u001b[0mnames\u001b[0m\u001b[1;33m,\u001b[0m\u001b[1;33m\u001b[0m\u001b[0m\n\u001b[0;32m    224\u001b[0m                        \u001b[0mverify_integrity\u001b[0m\u001b[1;33m=\u001b[0m\u001b[0mverify_integrity\u001b[0m\u001b[1;33m,\u001b[0m\u001b[1;33m\u001b[0m\u001b[0m\n\u001b[1;32m--> 225\u001b[1;33m                        copy=copy, sort=sort)\n\u001b[0m\u001b[0;32m    226\u001b[0m     \u001b[1;32mreturn\u001b[0m \u001b[0mop\u001b[0m\u001b[1;33m.\u001b[0m\u001b[0mget_result\u001b[0m\u001b[1;33m(\u001b[0m\u001b[1;33m)\u001b[0m\u001b[1;33m\u001b[0m\u001b[0m\n\u001b[0;32m    227\u001b[0m \u001b[1;33m\u001b[0m\u001b[0m\n",
      "\u001b[1;32mc:\\users\\apetersen\\appdata\\local\\programs\\python\\python37\\lib\\site-packages\\pandas\\core\\reshape\\concat.py\u001b[0m in \u001b[0;36m__init__\u001b[1;34m(self, objs, axis, join, join_axes, keys, levels, names, ignore_index, verify_integrity, copy, sort)\u001b[0m\n\u001b[0;32m    239\u001b[0m             raise TypeError('first argument must be an iterable of pandas '\n\u001b[0;32m    240\u001b[0m                             \u001b[1;34m'objects, you passed an object of type '\u001b[0m\u001b[1;33m\u001b[0m\u001b[0m\n\u001b[1;32m--> 241\u001b[1;33m                             '\"{name}\"'.format(name=type(objs).__name__))\n\u001b[0m\u001b[0;32m    242\u001b[0m \u001b[1;33m\u001b[0m\u001b[0m\n\u001b[0;32m    243\u001b[0m         \u001b[1;32mif\u001b[0m \u001b[0mjoin\u001b[0m \u001b[1;33m==\u001b[0m \u001b[1;34m'outer'\u001b[0m\u001b[1;33m:\u001b[0m\u001b[1;33m\u001b[0m\u001b[0m\n",
      "\u001b[1;31mTypeError\u001b[0m: first argument must be an iterable of pandas objects, you passed an object of type \"DataFrame\""
     ]
    }
   ],
   "source": [
    "df00=pd.concat(pd.DataFrame(list_rows))\n",
    "df00"
   ]
  },
  {
   "cell_type": "markdown",
   "metadata": {},
   "source": [
    "### Info to Dataframe"
   ]
  },
  {
   "cell_type": "code",
   "execution_count": 11,
   "metadata": {},
   "outputs": [
    {
     "data": {
      "text/html": [
       "<div>\n",
       "<style scoped>\n",
       "    .dataframe tbody tr th:only-of-type {\n",
       "        vertical-align: middle;\n",
       "    }\n",
       "\n",
       "    .dataframe tbody tr th {\n",
       "        vertical-align: top;\n",
       "    }\n",
       "\n",
       "    .dataframe thead th {\n",
       "        text-align: right;\n",
       "    }\n",
       "</style>\n",
       "<table border=\"1\" class=\"dataframe\">\n",
       "  <thead>\n",
       "    <tr style=\"text-align: right;\">\n",
       "      <th></th>\n",
       "      <th>0</th>\n",
       "    </tr>\n",
       "  </thead>\n",
       "  <tbody>\n",
       "    <tr>\n",
       "      <th>0</th>\n",
       "      <td>[Color Temperature:, 2700 (Warm White)]</td>\n",
       "    </tr>\n",
       "    <tr>\n",
       "      <th>1</th>\n",
       "      <td>[Lumens:, 800]</td>\n",
       "    </tr>\n",
       "    <tr>\n",
       "      <th>2</th>\n",
       "      <td>[Shape:, A19 (Arbitrary)]</td>\n",
       "    </tr>\n",
       "    <tr>\n",
       "      <th>3</th>\n",
       "      <td>[Wattage:, 9.500]</td>\n",
       "    </tr>\n",
       "    <tr>\n",
       "      <th>4</th>\n",
       "      <td>[Volts AC:, 120]</td>\n",
       "    </tr>\n",
       "  </tbody>\n",
       "</table>\n",
       "</div>"
      ],
      "text/plain": [
       "                                         0\n",
       "0  [Color Temperature:, 2700 (Warm White)]\n",
       "1                           [Lumens:, 800]\n",
       "2                [Shape:, A19 (Arbitrary)]\n",
       "3                        [Wattage:, 9.500]\n",
       "4                         [Volts AC:, 120]"
      ]
     },
     "execution_count": 11,
     "metadata": {},
     "output_type": "execute_result"
    }
   ],
   "source": [
    "# pass array to a dataframe\n",
    "df=pd.DataFrame(list_rows)\n",
    "df.head()"
   ]
  },
  {
   "cell_type": "code",
   "execution_count": 12,
   "metadata": {},
   "outputs": [
    {
     "name": "stdout",
     "output_type": "stream",
     "text": [
      "Index(['Name', 'Value'], dtype='object')\n"
     ]
    }
   ],
   "source": [
    "# use split function to separate headers from values\n",
    "\n",
    "new_df=df[0].str.split(',',n=1,expand=True)\n",
    "new_df.columns=['Name','Value']\n",
    "print(new_df.columns)"
   ]
  },
  {
   "cell_type": "code",
   "execution_count": 13,
   "metadata": {},
   "outputs": [
    {
     "data": {
      "text/html": [
       "<div>\n",
       "<style scoped>\n",
       "    .dataframe tbody tr th:only-of-type {\n",
       "        vertical-align: middle;\n",
       "    }\n",
       "\n",
       "    .dataframe tbody tr th {\n",
       "        vertical-align: top;\n",
       "    }\n",
       "\n",
       "    .dataframe thead th {\n",
       "        text-align: right;\n",
       "    }\n",
       "</style>\n",
       "<table border=\"1\" class=\"dataframe\">\n",
       "  <thead>\n",
       "    <tr style=\"text-align: right;\">\n",
       "      <th></th>\n",
       "      <th>Name</th>\n",
       "      <th>Value</th>\n",
       "    </tr>\n",
       "  </thead>\n",
       "  <tbody>\n",
       "    <tr>\n",
       "      <th>0</th>\n",
       "      <td>Color Temperature</td>\n",
       "      <td>2700 (Warm White)</td>\n",
       "    </tr>\n",
       "    <tr>\n",
       "      <th>1</th>\n",
       "      <td>Lumens</td>\n",
       "      <td>800</td>\n",
       "    </tr>\n",
       "    <tr>\n",
       "      <th>2</th>\n",
       "      <td>Shape</td>\n",
       "      <td>A19 (Arbitrary)</td>\n",
       "    </tr>\n",
       "    <tr>\n",
       "      <th>3</th>\n",
       "      <td>Wattage</td>\n",
       "      <td>9.500</td>\n",
       "    </tr>\n",
       "    <tr>\n",
       "      <th>4</th>\n",
       "      <td>Volts AC</td>\n",
       "      <td>120</td>\n",
       "    </tr>\n",
       "    <tr>\n",
       "      <th>5</th>\n",
       "      <td>Type</td>\n",
       "      <td>Lamp, LED, Dimmable</td>\n",
       "    </tr>\n",
       "  </tbody>\n",
       "</table>\n",
       "</div>"
      ],
      "text/plain": [
       "                Name                 Value\n",
       "0  Color Temperature     2700 (Warm White)\n",
       "1             Lumens                   800\n",
       "2              Shape       A19 (Arbitrary)\n",
       "3            Wattage                 9.500\n",
       "4           Volts AC                   120\n",
       "5               Type   Lamp, LED, Dimmable"
      ]
     },
     "execution_count": 13,
     "metadata": {},
     "output_type": "execute_result"
    }
   ],
   "source": [
    "# Clean up data\n",
    "\n",
    "new_df['Name']=new_df['Name'].str.replace('[','')\n",
    "new_df['Name']=new_df['Name'].str.replace(':','')\n",
    "new_df['Value']=new_df['Value'].str.replace(']','')\n",
    "new_df"
   ]
  },
  {
   "cell_type": "code",
   "execution_count": 14,
   "metadata": {},
   "outputs": [
    {
     "data": {
      "text/html": [
       "<div>\n",
       "<style scoped>\n",
       "    .dataframe tbody tr th:only-of-type {\n",
       "        vertical-align: middle;\n",
       "    }\n",
       "\n",
       "    .dataframe tbody tr th {\n",
       "        vertical-align: top;\n",
       "    }\n",
       "\n",
       "    .dataframe thead th {\n",
       "        text-align: right;\n",
       "    }\n",
       "</style>\n",
       "<table border=\"1\" class=\"dataframe\">\n",
       "  <thead>\n",
       "    <tr style=\"text-align: right;\">\n",
       "      <th></th>\n",
       "      <th>0</th>\n",
       "      <th>1</th>\n",
       "      <th>2</th>\n",
       "      <th>3</th>\n",
       "      <th>4</th>\n",
       "      <th>5</th>\n",
       "    </tr>\n",
       "  </thead>\n",
       "  <tbody>\n",
       "    <tr>\n",
       "      <th>Name</th>\n",
       "      <td>Color Temperature</td>\n",
       "      <td>Lumens</td>\n",
       "      <td>Shape</td>\n",
       "      <td>Wattage</td>\n",
       "      <td>Volts AC</td>\n",
       "      <td>Type</td>\n",
       "    </tr>\n",
       "    <tr>\n",
       "      <th>Value</th>\n",
       "      <td>2700 (Warm White)</td>\n",
       "      <td>800</td>\n",
       "      <td>A19 (Arbitrary)</td>\n",
       "      <td>9.500</td>\n",
       "      <td>120</td>\n",
       "      <td>Lamp, LED, Dimmable</td>\n",
       "    </tr>\n",
       "  </tbody>\n",
       "</table>\n",
       "</div>"
      ],
      "text/plain": [
       "                        0       1                 2        3         4  \\\n",
       "Name    Color Temperature  Lumens             Shape  Wattage  Volts AC   \n",
       "Value   2700 (Warm White)     800   A19 (Arbitrary)    9.500       120   \n",
       "\n",
       "                          5  \n",
       "Name                   Type  \n",
       "Value   Lamp, LED, Dimmable  "
      ]
     },
     "execution_count": 14,
     "metadata": {},
     "output_type": "execute_result"
    }
   ],
   "source": [
    "# transpose dataframe because the headers are on the rows\n",
    "new_df=new_df.transpose()\n",
    "new_df"
   ]
  },
  {
   "cell_type": "code",
   "execution_count": 16,
   "metadata": {},
   "outputs": [
    {
     "data": {
      "text/html": [
       "<div>\n",
       "<style scoped>\n",
       "    .dataframe tbody tr th:only-of-type {\n",
       "        vertical-align: middle;\n",
       "    }\n",
       "\n",
       "    .dataframe tbody tr th {\n",
       "        vertical-align: top;\n",
       "    }\n",
       "\n",
       "    .dataframe thead th {\n",
       "        text-align: right;\n",
       "    }\n",
       "</style>\n",
       "<table border=\"1\" class=\"dataframe\">\n",
       "  <thead>\n",
       "    <tr style=\"text-align: right;\">\n",
       "      <th></th>\n",
       "      <th>Color Temperature</th>\n",
       "      <th>Lumens</th>\n",
       "      <th>Shape</th>\n",
       "      <th>Wattage</th>\n",
       "      <th>Volts AC</th>\n",
       "      <th>Type</th>\n",
       "    </tr>\n",
       "  </thead>\n",
       "  <tbody>\n",
       "    <tr>\n",
       "      <th>Value</th>\n",
       "      <td>2700 (Warm White)</td>\n",
       "      <td>800</td>\n",
       "      <td>A19 (Arbitrary)</td>\n",
       "      <td>9.500</td>\n",
       "      <td>120</td>\n",
       "      <td>Lamp, LED, Dimmable</td>\n",
       "    </tr>\n",
       "  </tbody>\n",
       "</table>\n",
       "</div>"
      ],
      "text/plain": [
       "        Color Temperature Lumens             Shape Wattage Volts AC  \\\n",
       "Value   2700 (Warm White)    800   A19 (Arbitrary)   9.500      120   \n",
       "\n",
       "                       Type  \n",
       "Value   Lamp, LED, Dimmable  "
      ]
     },
     "execution_count": 16,
     "metadata": {},
     "output_type": "execute_result"
    }
   ],
   "source": [
    "# replace headers with first row and delete first row\n",
    "\n",
    "df2=new_df.rename(columns=new_df.iloc[0])\n",
    "df3=df2.drop(df2.index[0])\n",
    "df3"
   ]
  },
  {
   "cell_type": "markdown",
   "metadata": {},
   "source": [
    "### Second Table"
   ]
  },
  {
   "cell_type": "markdown",
   "metadata": {},
   "source": [
    "Repeat this process for the other spec table, then combine them"
   ]
  },
  {
   "cell_type": "code",
   "execution_count": 17,
   "metadata": {},
   "outputs": [
    {
     "name": "stdout",
     "output_type": "stream",
     "text": [
      "<table cellpadding=\"0\" cellspacing=\"0\" class=\"seoSpecTable1\"><tr><td class=\"detailsGridCol1\">Platt Cat:</td><td class=\"detailsGridCol2\">PHI9A19LED82722DIM</td></tr><tr class=\"detailsGridAltRow\"><td class=\"detailsGridCol1\">Platt Item:</td><td class=\"detailsGridCol2\">0169504</td></tr><tr><td class=\"detailsGridCol1\">Cat:</td><td class=\"detailsGridCol2\">9.5A19/LED/827-22 DIM 120V</td></tr><tr class=\"detailsGridAltRow\"><td class=\"detailsGridCol1\">UPC:</td><td class=\"detailsGridCol2\">046677455828</td></tr><tr><td class=\"detailsGridCol1\">Category: </td><td class=\"detailsGridCol2\"><a href=\"/platt-electric-supply/LED-Traditional/Lamps-A-Type/search.aspx?SectionID=10&amp;GroupID=136&amp;CatID=7571&amp;SubCatID=7572\" title=\"Lamps - A-Type\">Lamps - A-Type</a></td></tr><tr class=\"detailsGridAltRow\"><td class=\"detailsGridCol1\">Base:</td><td>Medium Screw (E26)</td></tr><tr><td class=\"detailsGridCol1\">Color Rendering Index (CRI):</td><td>80</td></tr></table>\n"
     ]
    }
   ],
   "source": [
    "# find second specification table\n",
    "spectable2=soup.find(\"table\",{\"class\":\"seoSpecTable1\"})\n",
    "print(spectable2)"
   ]
  },
  {
   "cell_type": "code",
   "execution_count": 19,
   "metadata": {},
   "outputs": [
    {
     "name": "stdout",
     "output_type": "stream",
     "text": [
      "[<tr><td class=\"detailsGridCol1\">Platt Cat:</td><td class=\"detailsGridCol2\">PHI9A19LED82722DIM</td></tr>, <tr class=\"detailsGridAltRow\"><td class=\"detailsGridCol1\">Platt Item:</td><td class=\"detailsGridCol2\">0169504</td></tr>, <tr><td class=\"detailsGridCol1\">Cat:</td><td class=\"detailsGridCol2\">9.5A19/LED/827-22 DIM 120V</td></tr>, <tr class=\"detailsGridAltRow\"><td class=\"detailsGridCol1\">UPC:</td><td class=\"detailsGridCol2\">046677455828</td></tr>, <tr><td class=\"detailsGridCol1\">Category: </td><td class=\"detailsGridCol2\"><a href=\"/platt-electric-supply/LED-Traditional/Lamps-A-Type/search.aspx?SectionID=10&amp;GroupID=136&amp;CatID=7571&amp;SubCatID=7572\" title=\"Lamps - A-Type\">Lamps - A-Type</a></td></tr>, <tr class=\"detailsGridAltRow\"><td class=\"detailsGridCol1\">Base:</td><td>Medium Screw (E26)</td></tr>, <tr><td class=\"detailsGridCol1\">Color Rendering Index (CRI):</td><td>80</td></tr>]\n"
     ]
    }
   ],
   "source": [
    "# loop through spec table and grab all attributes\n",
    "specrows2=spectable2.find_all('tr')\n",
    "print(specrows2)"
   ]
  },
  {
   "cell_type": "code",
   "execution_count": 24,
   "metadata": {},
   "outputs": [
    {
     "name": "stdout",
     "output_type": "stream",
     "text": [
      "[<td class=\"detailsGridCol1\">Platt Cat:</td>, <td class=\"detailsGridCol2\">PHI9A19LED82722DIM</td>]\n",
      "[<td class=\"detailsGridCol1\">Platt Item:</td>, <td class=\"detailsGridCol2\">0169504</td>]\n",
      "[<td class=\"detailsGridCol1\">Cat:</td>, <td class=\"detailsGridCol2\">9.5A19/LED/827-22 DIM 120V</td>]\n",
      "[<td class=\"detailsGridCol1\">UPC:</td>, <td class=\"detailsGridCol2\">046677455828</td>]\n",
      "[<td class=\"detailsGridCol1\">Category: </td>, <td class=\"detailsGridCol2\"><a href=\"/platt-electric-supply/LED-Traditional/Lamps-A-Type/search.aspx?SectionID=10&amp;GroupID=136&amp;CatID=7571&amp;SubCatID=7572\" title=\"Lamps - A-Type\">Lamps - A-Type</a></td>]\n",
      "[<td class=\"detailsGridCol1\">Base:</td>, <td>Medium Screw (E26)</td>]\n",
      "[<td class=\"detailsGridCol1\">Color Rendering Index (CRI):</td>, <td>80</td>]\n"
     ]
    }
   ],
   "source": [
    "# split rows into columns.\n",
    "\n",
    "for row in specrows2:\n",
    "    row_td=row.find_all('td')\n",
    "    print(row_td)"
   ]
  },
  {
   "cell_type": "code",
   "execution_count": 25,
   "metadata": {},
   "outputs": [
    {
     "name": "stdout",
     "output_type": "stream",
     "text": [
      "[Color Rendering Index (CRI):, 80]\n",
      "['[Platt Cat:, PHI9A19LED82722DIM]', '[Platt Item:, 0169504]', '[Cat:, 9.5A19/LED/827-22 DIM 120V]', '[UPC:, 046677455828]', '[Category: , Lamps - A-Type]', '[Base:, Medium Screw (E26)]', '[Color Rendering Index (CRI):, 80]']\n"
     ]
    }
   ],
   "source": [
    "# improved method to grab columns within each row\n",
    "import re\n",
    "\n",
    "list_rows2=[]\n",
    "for row in specrows2:\n",
    "    cells=row.find_all('td')\n",
    "    str_cells=str(cells)\n",
    "    clean=re.compile('<.*?>')\n",
    "    clean2=(re.sub(clean,'',str_cells))\n",
    "    list_rows2.append(clean2)\n",
    "print(clean2)\n",
    "type(clean2)\n",
    "print(list_rows2)"
   ]
  },
  {
   "cell_type": "code",
   "execution_count": 27,
   "metadata": {},
   "outputs": [
    {
     "data": {
      "text/html": [
       "<div>\n",
       "<style scoped>\n",
       "    .dataframe tbody tr th:only-of-type {\n",
       "        vertical-align: middle;\n",
       "    }\n",
       "\n",
       "    .dataframe tbody tr th {\n",
       "        vertical-align: top;\n",
       "    }\n",
       "\n",
       "    .dataframe thead th {\n",
       "        text-align: right;\n",
       "    }\n",
       "</style>\n",
       "<table border=\"1\" class=\"dataframe\">\n",
       "  <thead>\n",
       "    <tr style=\"text-align: right;\">\n",
       "      <th></th>\n",
       "      <th>0</th>\n",
       "    </tr>\n",
       "  </thead>\n",
       "  <tbody>\n",
       "    <tr>\n",
       "      <th>0</th>\n",
       "      <td>[Platt Cat:, PHI9A19LED82722DIM]</td>\n",
       "    </tr>\n",
       "    <tr>\n",
       "      <th>1</th>\n",
       "      <td>[Platt Item:, 0169504]</td>\n",
       "    </tr>\n",
       "    <tr>\n",
       "      <th>2</th>\n",
       "      <td>[Cat:, 9.5A19/LED/827-22 DIM 120V]</td>\n",
       "    </tr>\n",
       "    <tr>\n",
       "      <th>3</th>\n",
       "      <td>[UPC:, 046677455828]</td>\n",
       "    </tr>\n",
       "    <tr>\n",
       "      <th>4</th>\n",
       "      <td>[Category: , Lamps - A-Type]</td>\n",
       "    </tr>\n",
       "    <tr>\n",
       "      <th>5</th>\n",
       "      <td>[Base:, Medium Screw (E26)]</td>\n",
       "    </tr>\n",
       "    <tr>\n",
       "      <th>6</th>\n",
       "      <td>[Color Rendering Index (CRI):, 80]</td>\n",
       "    </tr>\n",
       "  </tbody>\n",
       "</table>\n",
       "</div>"
      ],
      "text/plain": [
       "                                    0\n",
       "0    [Platt Cat:, PHI9A19LED82722DIM]\n",
       "1              [Platt Item:, 0169504]\n",
       "2  [Cat:, 9.5A19/LED/827-22 DIM 120V]\n",
       "3                [UPC:, 046677455828]\n",
       "4        [Category: , Lamps - A-Type]\n",
       "5         [Base:, Medium Screw (E26)]\n",
       "6  [Color Rendering Index (CRI):, 80]"
      ]
     },
     "execution_count": 27,
     "metadata": {},
     "output_type": "execute_result"
    }
   ],
   "source": [
    "# pass array to a dataframe\n",
    "df_tbl2=pd.DataFrame(list_rows2)\n",
    "df_tbl2"
   ]
  },
  {
   "cell_type": "code",
   "execution_count": 30,
   "metadata": {},
   "outputs": [
    {
     "data": {
      "text/html": [
       "<div>\n",
       "<style scoped>\n",
       "    .dataframe tbody tr th:only-of-type {\n",
       "        vertical-align: middle;\n",
       "    }\n",
       "\n",
       "    .dataframe tbody tr th {\n",
       "        vertical-align: top;\n",
       "    }\n",
       "\n",
       "    .dataframe thead th {\n",
       "        text-align: right;\n",
       "    }\n",
       "</style>\n",
       "<table border=\"1\" class=\"dataframe\">\n",
       "  <thead>\n",
       "    <tr style=\"text-align: right;\">\n",
       "      <th></th>\n",
       "      <th>Name</th>\n",
       "      <th>Value</th>\n",
       "    </tr>\n",
       "  </thead>\n",
       "  <tbody>\n",
       "    <tr>\n",
       "      <th>0</th>\n",
       "      <td>[Platt Cat:</td>\n",
       "      <td>PHI9A19LED82722DIM]</td>\n",
       "    </tr>\n",
       "    <tr>\n",
       "      <th>1</th>\n",
       "      <td>[Platt Item:</td>\n",
       "      <td>0169504]</td>\n",
       "    </tr>\n",
       "    <tr>\n",
       "      <th>2</th>\n",
       "      <td>[Cat:</td>\n",
       "      <td>9.5A19/LED/827-22 DIM 120V]</td>\n",
       "    </tr>\n",
       "    <tr>\n",
       "      <th>3</th>\n",
       "      <td>[UPC:</td>\n",
       "      <td>046677455828]</td>\n",
       "    </tr>\n",
       "    <tr>\n",
       "      <th>4</th>\n",
       "      <td>[Category:</td>\n",
       "      <td>Lamps - A-Type]</td>\n",
       "    </tr>\n",
       "    <tr>\n",
       "      <th>5</th>\n",
       "      <td>[Base:</td>\n",
       "      <td>Medium Screw (E26)]</td>\n",
       "    </tr>\n",
       "    <tr>\n",
       "      <th>6</th>\n",
       "      <td>[Color Rendering Index (CRI):</td>\n",
       "      <td>80]</td>\n",
       "    </tr>\n",
       "  </tbody>\n",
       "</table>\n",
       "</div>"
      ],
      "text/plain": [
       "                            Name                         Value\n",
       "0                    [Platt Cat:           PHI9A19LED82722DIM]\n",
       "1                   [Platt Item:                      0169504]\n",
       "2                          [Cat:   9.5A19/LED/827-22 DIM 120V]\n",
       "3                          [UPC:                 046677455828]\n",
       "4                    [Category:                Lamps - A-Type]\n",
       "5                         [Base:           Medium Screw (E26)]\n",
       "6  [Color Rendering Index (CRI):                           80]"
      ]
     },
     "execution_count": 30,
     "metadata": {},
     "output_type": "execute_result"
    }
   ],
   "source": [
    "# use split function to separate headers from values\n",
    "\n",
    "df2_tbl2=df_tbl2[0].str.split(',',n=1,expand=True)\n",
    "df2_tbl2.columns=['Name','Value']\n",
    "df2_tbl2"
   ]
  },
  {
   "cell_type": "code",
   "execution_count": 31,
   "metadata": {},
   "outputs": [
    {
     "data": {
      "text/html": [
       "<div>\n",
       "<style scoped>\n",
       "    .dataframe tbody tr th:only-of-type {\n",
       "        vertical-align: middle;\n",
       "    }\n",
       "\n",
       "    .dataframe tbody tr th {\n",
       "        vertical-align: top;\n",
       "    }\n",
       "\n",
       "    .dataframe thead th {\n",
       "        text-align: right;\n",
       "    }\n",
       "</style>\n",
       "<table border=\"1\" class=\"dataframe\">\n",
       "  <thead>\n",
       "    <tr style=\"text-align: right;\">\n",
       "      <th></th>\n",
       "      <th>Name</th>\n",
       "      <th>Value</th>\n",
       "    </tr>\n",
       "  </thead>\n",
       "  <tbody>\n",
       "    <tr>\n",
       "      <th>0</th>\n",
       "      <td>Platt Cat</td>\n",
       "      <td>PHI9A19LED82722DIM</td>\n",
       "    </tr>\n",
       "    <tr>\n",
       "      <th>1</th>\n",
       "      <td>Platt Item</td>\n",
       "      <td>0169504</td>\n",
       "    </tr>\n",
       "    <tr>\n",
       "      <th>2</th>\n",
       "      <td>Cat</td>\n",
       "      <td>9.5A19/LED/827-22 DIM 120V</td>\n",
       "    </tr>\n",
       "    <tr>\n",
       "      <th>3</th>\n",
       "      <td>UPC</td>\n",
       "      <td>046677455828</td>\n",
       "    </tr>\n",
       "    <tr>\n",
       "      <th>4</th>\n",
       "      <td>Category</td>\n",
       "      <td>Lamps - A-Type</td>\n",
       "    </tr>\n",
       "    <tr>\n",
       "      <th>5</th>\n",
       "      <td>Base</td>\n",
       "      <td>Medium Screw (E26)</td>\n",
       "    </tr>\n",
       "    <tr>\n",
       "      <th>6</th>\n",
       "      <td>Color Rendering Index (CRI)</td>\n",
       "      <td>80</td>\n",
       "    </tr>\n",
       "  </tbody>\n",
       "</table>\n",
       "</div>"
      ],
      "text/plain": [
       "                          Name                        Value\n",
       "0                    Platt Cat           PHI9A19LED82722DIM\n",
       "1                   Platt Item                      0169504\n",
       "2                          Cat   9.5A19/LED/827-22 DIM 120V\n",
       "3                          UPC                 046677455828\n",
       "4                    Category                Lamps - A-Type\n",
       "5                         Base           Medium Screw (E26)\n",
       "6  Color Rendering Index (CRI)                           80"
      ]
     },
     "execution_count": 31,
     "metadata": {},
     "output_type": "execute_result"
    }
   ],
   "source": [
    "# Clean up data\n",
    "\n",
    "df2_tbl2['Name']=df2_tbl2['Name'].str.replace('[','')\n",
    "df2_tbl2['Name']=df2_tbl2['Name'].str.replace(':','')\n",
    "df2_tbl2['Value']=df2_tbl2['Value'].str.replace(']','')\n",
    "df2_tbl2"
   ]
  },
  {
   "cell_type": "code",
   "execution_count": 32,
   "metadata": {},
   "outputs": [
    {
     "data": {
      "text/html": [
       "<div>\n",
       "<style scoped>\n",
       "    .dataframe tbody tr th:only-of-type {\n",
       "        vertical-align: middle;\n",
       "    }\n",
       "\n",
       "    .dataframe tbody tr th {\n",
       "        vertical-align: top;\n",
       "    }\n",
       "\n",
       "    .dataframe thead th {\n",
       "        text-align: right;\n",
       "    }\n",
       "</style>\n",
       "<table border=\"1\" class=\"dataframe\">\n",
       "  <thead>\n",
       "    <tr style=\"text-align: right;\">\n",
       "      <th></th>\n",
       "      <th>0</th>\n",
       "      <th>1</th>\n",
       "      <th>2</th>\n",
       "      <th>3</th>\n",
       "      <th>4</th>\n",
       "      <th>5</th>\n",
       "      <th>6</th>\n",
       "    </tr>\n",
       "  </thead>\n",
       "  <tbody>\n",
       "    <tr>\n",
       "      <th>Name</th>\n",
       "      <td>Platt Cat</td>\n",
       "      <td>Platt Item</td>\n",
       "      <td>Cat</td>\n",
       "      <td>UPC</td>\n",
       "      <td>Category</td>\n",
       "      <td>Base</td>\n",
       "      <td>Color Rendering Index (CRI)</td>\n",
       "    </tr>\n",
       "    <tr>\n",
       "      <th>Value</th>\n",
       "      <td>PHI9A19LED82722DIM</td>\n",
       "      <td>0169504</td>\n",
       "      <td>9.5A19/LED/827-22 DIM 120V</td>\n",
       "      <td>046677455828</td>\n",
       "      <td>Lamps - A-Type</td>\n",
       "      <td>Medium Screw (E26)</td>\n",
       "      <td>80</td>\n",
       "    </tr>\n",
       "  </tbody>\n",
       "</table>\n",
       "</div>"
      ],
      "text/plain": [
       "                         0           1                            2  \\\n",
       "Name             Platt Cat  Platt Item                          Cat   \n",
       "Value   PHI9A19LED82722DIM     0169504   9.5A19/LED/827-22 DIM 120V   \n",
       "\n",
       "                   3                4                    5  \\\n",
       "Name             UPC        Category                  Base   \n",
       "Value   046677455828   Lamps - A-Type   Medium Screw (E26)   \n",
       "\n",
       "                                 6  \n",
       "Name   Color Rendering Index (CRI)  \n",
       "Value                           80  "
      ]
     },
     "execution_count": 32,
     "metadata": {},
     "output_type": "execute_result"
    }
   ],
   "source": [
    "# transpose dataframe because the headers are on the rows\n",
    "df3_tbl2=df2_tbl2.transpose()\n",
    "df3_tbl2"
   ]
  },
  {
   "cell_type": "code",
   "execution_count": 34,
   "metadata": {},
   "outputs": [
    {
     "data": {
      "text/html": [
       "<div>\n",
       "<style scoped>\n",
       "    .dataframe tbody tr th:only-of-type {\n",
       "        vertical-align: middle;\n",
       "    }\n",
       "\n",
       "    .dataframe tbody tr th {\n",
       "        vertical-align: top;\n",
       "    }\n",
       "\n",
       "    .dataframe thead th {\n",
       "        text-align: right;\n",
       "    }\n",
       "</style>\n",
       "<table border=\"1\" class=\"dataframe\">\n",
       "  <thead>\n",
       "    <tr style=\"text-align: right;\">\n",
       "      <th></th>\n",
       "      <th>Platt Cat</th>\n",
       "      <th>Platt Item</th>\n",
       "      <th>Cat</th>\n",
       "      <th>UPC</th>\n",
       "      <th>Category</th>\n",
       "      <th>Base</th>\n",
       "      <th>Color Rendering Index (CRI)</th>\n",
       "    </tr>\n",
       "  </thead>\n",
       "  <tbody>\n",
       "    <tr>\n",
       "      <th>Value</th>\n",
       "      <td>PHI9A19LED82722DIM</td>\n",
       "      <td>0169504</td>\n",
       "      <td>9.5A19/LED/827-22 DIM 120V</td>\n",
       "      <td>046677455828</td>\n",
       "      <td>Lamps - A-Type</td>\n",
       "      <td>Medium Screw (E26)</td>\n",
       "      <td>80</td>\n",
       "    </tr>\n",
       "  </tbody>\n",
       "</table>\n",
       "</div>"
      ],
      "text/plain": [
       "                 Platt Cat Platt Item                          Cat  \\\n",
       "Value   PHI9A19LED82722DIM    0169504   9.5A19/LED/827-22 DIM 120V   \n",
       "\n",
       "                 UPC        Category                  Base  \\\n",
       "Value   046677455828   Lamps - A-Type   Medium Screw (E26)   \n",
       "\n",
       "      Color Rendering Index (CRI)  \n",
       "Value                          80  "
      ]
     },
     "execution_count": 34,
     "metadata": {},
     "output_type": "execute_result"
    }
   ],
   "source": [
    "# replace headers with first row and delete first row\n",
    "\n",
    "df3_tbl2=df3_tbl2.rename(columns=df3_tbl2.iloc[0])\n",
    "df4_tbl2=df3_tbl2.drop(df3_tbl2.index[0])\n",
    "df4_tbl2"
   ]
  },
  {
   "cell_type": "code",
   "execution_count": 37,
   "metadata": {},
   "outputs": [
    {
     "data": {
      "text/plain": [
       "Index(['Value'], dtype='object')"
      ]
     },
     "execution_count": 37,
     "metadata": {},
     "output_type": "execute_result"
    }
   ],
   "source": [
    "df4_tbl2.index"
   ]
  },
  {
   "cell_type": "markdown",
   "metadata": {},
   "source": [
    "### Combine Table Info"
   ]
  },
  {
   "cell_type": "code",
   "execution_count": 39,
   "metadata": {},
   "outputs": [
    {
     "data": {
      "text/html": [
       "<div>\n",
       "<style scoped>\n",
       "    .dataframe tbody tr th:only-of-type {\n",
       "        vertical-align: middle;\n",
       "    }\n",
       "\n",
       "    .dataframe tbody tr th {\n",
       "        vertical-align: top;\n",
       "    }\n",
       "\n",
       "    .dataframe thead th {\n",
       "        text-align: right;\n",
       "    }\n",
       "</style>\n",
       "<table border=\"1\" class=\"dataframe\">\n",
       "  <thead>\n",
       "    <tr style=\"text-align: right;\">\n",
       "      <th></th>\n",
       "      <th>Color Temperature</th>\n",
       "      <th>Lumens</th>\n",
       "      <th>Shape</th>\n",
       "      <th>Wattage</th>\n",
       "      <th>Volts AC</th>\n",
       "      <th>Type</th>\n",
       "      <th>Platt Cat</th>\n",
       "      <th>Platt Item</th>\n",
       "      <th>Cat</th>\n",
       "      <th>UPC</th>\n",
       "      <th>Category</th>\n",
       "      <th>Base</th>\n",
       "      <th>Color Rendering Index (CRI)</th>\n",
       "    </tr>\n",
       "  </thead>\n",
       "  <tbody>\n",
       "    <tr>\n",
       "      <th>Value</th>\n",
       "      <td>2700 (Warm White)</td>\n",
       "      <td>800</td>\n",
       "      <td>A19 (Arbitrary)</td>\n",
       "      <td>9.500</td>\n",
       "      <td>120</td>\n",
       "      <td>Lamp, LED, Dimmable</td>\n",
       "      <td>PHI9A19LED82722DIM</td>\n",
       "      <td>0169504</td>\n",
       "      <td>9.5A19/LED/827-22 DIM 120V</td>\n",
       "      <td>046677455828</td>\n",
       "      <td>Lamps - A-Type</td>\n",
       "      <td>Medium Screw (E26)</td>\n",
       "      <td>80</td>\n",
       "    </tr>\n",
       "  </tbody>\n",
       "</table>\n",
       "</div>"
      ],
      "text/plain": [
       "        Color Temperature Lumens             Shape Wattage Volts AC  \\\n",
       "Value   2700 (Warm White)    800   A19 (Arbitrary)   9.500      120   \n",
       "\n",
       "                       Type            Platt Cat Platt Item  \\\n",
       "Value   Lamp, LED, Dimmable   PHI9A19LED82722DIM    0169504   \n",
       "\n",
       "                               Cat            UPC        Category   \\\n",
       "Value   9.5A19/LED/827-22 DIM 120V   046677455828   Lamps - A-Type   \n",
       "\n",
       "                      Base Color Rendering Index (CRI)  \n",
       "Value   Medium Screw (E26)                          80  "
      ]
     },
     "execution_count": 39,
     "metadata": {},
     "output_type": "execute_result"
    }
   ],
   "source": [
    "# merge this dataframe with the other\n",
    "\n",
    "dfmer=df3.join(df4_tbl2)\n",
    "dfmer"
   ]
  },
  {
   "cell_type": "code",
   "execution_count": 16,
   "metadata": {},
   "outputs": [
    {
     "data": {
      "text/html": [
       "<div>\n",
       "<style scoped>\n",
       "    .dataframe tbody tr th:only-of-type {\n",
       "        vertical-align: middle;\n",
       "    }\n",
       "\n",
       "    .dataframe tbody tr th {\n",
       "        vertical-align: top;\n",
       "    }\n",
       "\n",
       "    .dataframe thead th {\n",
       "        text-align: right;\n",
       "    }\n",
       "</style>\n",
       "<table border=\"1\" class=\"dataframe\">\n",
       "  <thead>\n",
       "    <tr style=\"text-align: right;\">\n",
       "      <th></th>\n",
       "      <th>title</th>\n",
       "      <th>description</th>\n",
       "      <th>price</th>\n",
       "    </tr>\n",
       "  </thead>\n",
       "  <tbody>\n",
       "    <tr>\n",
       "      <th>0</th>\n",
       "      <td>&lt;title&gt;\r\n",
       "\tPhilips Lighting - 9.5A19/LED/827-22...</td>\n",
       "      <td>Dimmable LED Lamp with warm glow effect, 9.5W,...</td>\n",
       "      <td>$6.83</td>\n",
       "    </tr>\n",
       "  </tbody>\n",
       "</table>\n",
       "</div>"
      ],
      "text/plain": [
       "                                               title  \\\n",
       "0  <title>\n",
       "\tPhilips Lighting - 9.5A19/LED/827-22...   \n",
       "\n",
       "                                         description  price  \n",
       "0  Dimmable LED Lamp with warm glow effect, 9.5W,...  $6.83  "
      ]
     },
     "execution_count": 16,
     "metadata": {},
     "output_type": "execute_result"
    }
   ],
   "source": [
    "title=soup.title\n",
    "\n",
    "# find price box, strips away the tag info and leaves the price\n",
    "price=soup.find(\"span\",{\"class\":\"ProductPriceOrderBox\"}).get_text(strip=True)\n",
    "\n",
    "# find description for product\n",
    "description=soup.find(\"span\",{\"id\":\"lblDetailDes\"}).get_text(strip=True)\n",
    "\n",
    "prodinfo=[]\n",
    "prodinfo.append(title)\n",
    "prodinfo.append(description)\n",
    "prodinfo.append(price)\n",
    "df0=pd.DataFrame(prodinfo)\n",
    "df0=df0.transpose()\n",
    "df0.columns=['title','description','price']\n",
    "df0"
   ]
  },
  {
   "cell_type": "markdown",
   "metadata": {},
   "source": [
    "Now per page these micro dataframes will have different columns, so will the concat properly? Hopefully."
   ]
  },
  {
   "cell_type": "markdown",
   "metadata": {},
   "source": [
    "# Page Information Pull"
   ]
  },
  {
   "cell_type": "code",
   "execution_count": 3,
   "metadata": {},
   "outputs": [
    {
     "data": {
      "text/plain": [
       "bs4.BeautifulSoup"
      ]
     },
     "execution_count": 3,
     "metadata": {},
     "output_type": "execute_result"
    }
   ],
   "source": [
    "#path = 'https://www.platt.com/platt-electric-supply/LED-Traditional-Lamps-A-Type/Philips-Lighting/9-5A19-LED-827-22-DIM-120V/product.aspx?zpid=169504'\n",
    "path = 'https://www.platt.com/platt-electric-supply/Fluorescent-Tube-T8-Standard/Philips-Lighting/F15T8-Cool-White-Plus/product.aspx?zpid=48910'\n",
    "\n",
    "html=ureq.urlopen(path)\n",
    "\n",
    "soup=BeautifulSoup(html,'html.parser')\n",
    "type(soup)"
   ]
  },
  {
   "cell_type": "code",
   "execution_count": 34,
   "metadata": {},
   "outputs": [
    {
     "data": {
      "text/html": [
       "<div>\n",
       "<style scoped>\n",
       "    .dataframe tbody tr th:only-of-type {\n",
       "        vertical-align: middle;\n",
       "    }\n",
       "\n",
       "    .dataframe tbody tr th {\n",
       "        vertical-align: top;\n",
       "    }\n",
       "\n",
       "    .dataframe thead th {\n",
       "        text-align: right;\n",
       "    }\n",
       "</style>\n",
       "<table border=\"1\" class=\"dataframe\">\n",
       "  <thead>\n",
       "    <tr style=\"text-align: right;\">\n",
       "      <th></th>\n",
       "      <th>title</th>\n",
       "      <th>description</th>\n",
       "      <th>price</th>\n",
       "      <th>Platt Cat</th>\n",
       "      <th>Platt Item</th>\n",
       "      <th>Cat</th>\n",
       "      <th>UPC</th>\n",
       "      <th>Category</th>\n",
       "      <th>Base</th>\n",
       "      <th>Color Rendering Index (CRI)</th>\n",
       "      <th>Color Temperature</th>\n",
       "      <th>Lumens</th>\n",
       "      <th>Shape</th>\n",
       "      <th>Wattage</th>\n",
       "      <th>Color</th>\n",
       "      <th>Length</th>\n",
       "      <th>Type</th>\n",
       "    </tr>\n",
       "  </thead>\n",
       "  <tbody>\n",
       "    <tr>\n",
       "      <th>Value</th>\n",
       "      <td>&lt;title&gt;\r\n",
       "\tPhilips Lighting - F15T8/Cool White ...</td>\n",
       "      <td>Fluorescent Lamp, 15W, Bulb: T8 (Tubular), Bas...</td>\n",
       "      <td>$15.11</td>\n",
       "      <td>PHIF15T8CW18HLRTL</td>\n",
       "      <td>0048910</td>\n",
       "      <td>F15T8/Cool White Plus</td>\n",
       "      <td>046677392079</td>\n",
       "      <td>T8 - Standard</td>\n",
       "      <td>2-Pin (G13)</td>\n",
       "      <td>59</td>\n",
       "      <td>4100 (Cool White)</td>\n",
       "      <td>870</td>\n",
       "      <td>T8 (Tubular)</td>\n",
       "      <td>15</td>\n",
       "      <td>Cool White</td>\n",
       "      <td>18 in</td>\n",
       "      <td>T8, Lamp, Fluorescent</td>\n",
       "    </tr>\n",
       "  </tbody>\n",
       "</table>\n",
       "</div>"
      ],
      "text/plain": [
       "                                                   title  \\\n",
       "Value  <title>\n",
       "\tPhilips Lighting - F15T8/Cool White ...   \n",
       "\n",
       "                                             description   price  \\\n",
       "Value  Fluorescent Lamp, 15W, Bulb: T8 (Tubular), Bas...  $15.11   \n",
       "\n",
       "                Platt Cat Platt Item                     Cat            UPC  \\\n",
       "Value   PHIF15T8CW18HLRTL    0048910   F15T8/Cool White Plus   046677392079   \n",
       "\n",
       "            Category           Base Color Rendering Index (CRI)  \\\n",
       "Value   T8 - Standard   2-Pin (G13)                          59   \n",
       "\n",
       "        Color Temperature Lumens          Shape Wattage        Color  Length  \\\n",
       "Value   4100 (Cool White)    870   T8 (Tubular)      15   Cool White   18 in   \n",
       "\n",
       "                         Type  \n",
       "Value   T8, Lamp, Fluorescent  "
      ]
     },
     "execution_count": 34,
     "metadata": {},
     "output_type": "execute_result"
    }
   ],
   "source": [
    "## Need to add bits for accounting for info potentially being in first or second table\n",
    "## actually no i dont, i designed it to grab everything in the table...yay! Should test\n",
    "# all in a block\n",
    "import re\n",
    "\n",
    "title=soup.title\n",
    "\n",
    "# find price box, strips away the tag info and leaves the price\n",
    "price=soup.find(\"span\",{\"class\":\"ProductPriceOrderBox\"}).get_text(strip=True)\n",
    "\n",
    "# find description for product\n",
    "description=soup.find(\"span\",{\"id\":\"lblDetailDes\"}).get_text(strip=True)\n",
    "\n",
    "prodinfo=[]\n",
    "prodinfo.append(title)\n",
    "prodinfo.append(description)\n",
    "prodinfo.append(price)\n",
    "df0=pd.DataFrame(prodinfo)\n",
    "df0=df0.transpose()\n",
    "df0.columns=['title','description','price']\n",
    "df0.index=['Value']\n",
    "\n",
    "\n",
    "# find specification table\n",
    "spectable=soup.find(\"table\",{\"class\":\"seoSpecTable1\"})\n",
    "\n",
    "# loop through spec table and grab all attributes\n",
    "specrows=spectable.find_all('tr')\n",
    "    \n",
    "# improved method to grab columns within each row\n",
    "list_rows=[]\n",
    "for row in specrows:\n",
    "    cells=row.find_all('td')\n",
    "    str_cells=str(cells)\n",
    "    clean=re.compile('<.*?>')\n",
    "    clean2=(re.sub(clean,'',str_cells))\n",
    "    list_rows.append(clean2)\n",
    "type(clean2)\n",
    "\n",
    "# pass array to a dataframe\n",
    "df1=pd.DataFrame(list_rows)\n",
    "\n",
    "# use split function to separate headers from values\n",
    "df1_1=df1[0].str.split(',',n=1,expand=True)\n",
    "df1_1.columns=['Name','Value']\n",
    "\n",
    "# Clean up data\n",
    "df1_1['Name']=df1_1['Name'].str.replace('[','')\n",
    "df1_1['Name']=df1_1['Name'].str.replace(':','')\n",
    "df1_1['Value']=df1_1['Value'].str.replace(']','')\n",
    "\n",
    "# transpose dataframe because the headers are on the rows\n",
    "df1_1=df1_1.transpose()\n",
    "\n",
    "# replace headers with first row and delete first row\n",
    "df1_2=df1_1.rename(columns=df1_1.iloc[0])\n",
    "df1_3=df1_2.drop(df1_2.index[0])\n",
    "\n",
    "# find second specification table\n",
    "spectable2=soup.find(\"table\",{\"class\":\"seoSpecTable2\"})\n",
    "\n",
    "# loop through spec table and grab all attributes\n",
    "specrows2=spectable2.find_all('tr')\n",
    "\n",
    "# improved method to grab columns within each row\n",
    "list_rows2=[]\n",
    "for row in specrows2:\n",
    "    cells=row.find_all('td')\n",
    "    str_cells=str(cells)\n",
    "    clean=re.compile('<.*?>')\n",
    "    clean2=(re.sub(clean,'',str_cells))\n",
    "    list_rows2.append(clean2)\n",
    "type(clean2)\n",
    "    \n",
    "# pass array to a dataframe\n",
    "df2=pd.DataFrame(list_rows2)\n",
    "\n",
    "# use split function to separate headers from values\n",
    "df2_1=df2[0].str.split(',',n=1,expand=True)\n",
    "df2_1.columns=['Name','Value']\n",
    "\n",
    "# Clean up data\n",
    "df2_1['Name']=df2_1['Name'].str.replace('[','')\n",
    "df2_1['Name']=df2_1['Name'].str.replace(':','')\n",
    "df2_1['Value']=df2_1['Value'].str.replace(']','')\n",
    "\n",
    "# transpose dataframe because the headers are on the rows\n",
    "df2_1=df2_1.transpose()\n",
    "\n",
    "# replace headers with first row and delete first row\n",
    "df2_2=df2_1.rename(columns=df2_1.iloc[0])\n",
    "df2_3=df2_2.drop(df2_2.index[0])\n",
    "\n",
    "# merge this dataframe with the other\n",
    "dfmer=df1_3.join(df2_3)\n",
    "dfmer=df0.join(dfmer)\n",
    "dfmer"
   ]
  },
  {
   "cell_type": "code",
   "execution_count": null,
   "metadata": {},
   "outputs": [],
   "source": []
  }
 ],
 "metadata": {
  "kernelspec": {
   "display_name": "Python 3",
   "language": "python",
   "name": "python3"
  },
  "language_info": {
   "codemirror_mode": {
    "name": "ipython",
    "version": 3
   },
   "file_extension": ".py",
   "mimetype": "text/x-python",
   "name": "python",
   "nbconvert_exporter": "python",
   "pygments_lexer": "ipython3",
   "version": "3.7.0"
  }
 },
 "nbformat": 4,
 "nbformat_minor": 2
}
